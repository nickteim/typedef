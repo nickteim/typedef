{
  "nbformat": 4,
  "nbformat_minor": 0,
  "metadata": {
    "colab": {
      "name": "cat_detector.ipynb",
      "provenance": [],
      "toc_visible": true,
      "authorship_tag": "ABX9TyP0uWi7GgJaaUzPL/7pJab6",
      "include_colab_link": true
    },
    "kernelspec": {
      "name": "python3",
      "display_name": "Python 3"
    }
  },
  "cells": [
    {
      "cell_type": "markdown",
      "metadata": {
        "id": "view-in-github",
        "colab_type": "text"
      },
      "source": [
        "<a href=\"https://colab.research.google.com/github/nickteim/typedef/blob/mashine_learning/cat_detector.ipynb\" target=\"_parent\"><img src=\"https://colab.research.google.com/assets/colab-badge.svg\" alt=\"Open In Colab\"/></a>"
      ]
    },
    {
      "cell_type": "markdown",
      "metadata": {
        "id": "5pPLNS5xrr8K",
        "colab_type": "text"
      },
      "source": [
        "# Load data from Kaggle"
      ]
    },
    {
      "cell_type": "markdown",
      "metadata": {
        "id": "DjISvObuo_90",
        "colab_type": "text"
      },
      "source": [
        "EVER confused about how to get your data from kaggle to colab use:https://medium.com/analytics-vidhya/how-to-fetch-kaggle-datasets-into-google-colab-ea682569851a\n",
        "\n",
        "\n",
        "\n",
        "\n",
        "\n",
        "\n",
        "\n",
        "\n",
        "\n",
        "\n",
        "\n"
      ]
    },
    {
      "cell_type": "markdown",
      "metadata": {
        "id": "bA1Fv4uUpRdm",
        "colab_type": "text"
      },
      "source": [
        "------------------------------------------------------------------------"
      ]
    },
    {
      "cell_type": "code",
      "metadata": {
        "id": "NpYFLbGkki9z",
        "colab_type": "code",
        "colab": {
          "base_uri": "https://localhost:8080/",
          "height": 126
        },
        "outputId": "b7c130d8-c109-497d-cb47-2abf693f622a"
      },
      "source": [
        "from google.colab import drive\n",
        "drive.mount('/content/gdrive')"
      ],
      "execution_count": 1,
      "outputs": [
        {
          "output_type": "stream",
          "text": [
            "Go to this URL in a browser: https://accounts.google.com/o/oauth2/auth?client_id=947318989803-6bn6qk8qdgf4n4g3pfee6491hc0brc4i.apps.googleusercontent.com&redirect_uri=urn%3aietf%3awg%3aoauth%3a2.0%3aoob&scope=email%20https%3a%2f%2fwww.googleapis.com%2fauth%2fdocs.test%20https%3a%2f%2fwww.googleapis.com%2fauth%2fdrive%20https%3a%2f%2fwww.googleapis.com%2fauth%2fdrive.photos.readonly%20https%3a%2f%2fwww.googleapis.com%2fauth%2fpeopleapi.readonly&response_type=code\n",
            "\n",
            "Enter your authorization code:\n",
            "··········\n",
            "Mounted at /content/gdrive\n"
          ],
          "name": "stdout"
        }
      ]
    },
    {
      "cell_type": "code",
      "metadata": {
        "id": "stmv-sZFnkjo",
        "colab_type": "code",
        "colab": {}
      },
      "source": [
        "import os\n",
        "os.environ['KAGGLE_CONFIG_DIR'] = \"/content/gdrive/My Drive/kaggle/\"\n",
        "# /content/gdrive/My Drive/Kaggle is the path where kaggle.json is present in the Google Drive"
      ],
      "execution_count": 4,
      "outputs": []
    },
    {
      "cell_type": "code",
      "metadata": {
        "id": "_pBcelnenqP1",
        "colab_type": "code",
        "colab": {
          "base_uri": "https://localhost:8080/",
          "height": 35
        },
        "outputId": "552fb303-81bd-4a0f-de67-a3ea9ab8e690"
      },
      "source": [
        "#changing the working directory\n",
        "%cd /content/gdrive/My Drive/kaggle/\n",
        "#Check the present working directory using pwd command"
      ],
      "execution_count": 5,
      "outputs": [
        {
          "output_type": "stream",
          "text": [
            "/content/gdrive/My Drive/kaggle\n"
          ],
          "name": "stdout"
        }
      ]
    },
    {
      "cell_type": "code",
      "metadata": {
        "id": "4sc2LKivoA1r",
        "colab_type": "code",
        "colab": {
          "base_uri": "https://localhost:8080/",
          "height": 70
        },
        "outputId": "9d8e438a-030b-4a65-e487-646d4d2c6a22"
      },
      "source": [
        "!kaggle datasets download -d crawford/cat-dataset"
      ],
      "execution_count": 6,
      "outputs": [
        {
          "output_type": "stream",
          "text": [
            "Downloading cat-dataset.zip to /content/gdrive/My Drive/kaggle\n",
            "100% 4.03G/4.04G [00:52<00:00, 134MB/s]\n",
            "100% 4.04G/4.04G [00:52<00:00, 82.4MB/s]\n"
          ],
          "name": "stdout"
        }
      ]
    },
    {
      "cell_type": "code",
      "metadata": {
        "id": "Ozc8rDK8oZ5E",
        "colab_type": "code",
        "colab": {
          "base_uri": "https://localhost:8080/",
          "height": 35
        },
        "outputId": "619e34a1-d203-48f9-e58f-2597ba03c124"
      },
      "source": [
        "!ls"
      ],
      "execution_count": 7,
      "outputs": [
        {
          "output_type": "stream",
          "text": [
            "cat-dataset.zip  kaggle.json  model_best\n"
          ],
          "name": "stdout"
        }
      ]
    },
    {
      "cell_type": "code",
      "metadata": {
        "id": "X-quaFrzo38f",
        "colab_type": "code",
        "colab": {}
      },
      "source": [
        "#unzipping the zip files and deleting the zip files\n",
        "!unzip \\*.zip  && rm *.zip"
      ],
      "execution_count": null,
      "outputs": []
    },
    {
      "cell_type": "code",
      "metadata": {
        "id": "PJZdhRm3u62r",
        "colab_type": "code",
        "colab": {
          "base_uri": "https://localhost:8080/",
          "height": 70
        },
        "outputId": "4119e9e9-6d3a-4baf-f4fa-49473462eba5"
      },
      "source": [
        "!kaggle datasets download -d tongpython/cat-and-dog"
      ],
      "execution_count": 9,
      "outputs": [
        {
          "output_type": "stream",
          "text": [
            "Downloading cat-and-dog.zip to /content/gdrive/My Drive/kaggle\n",
            "100% 218M/218M [00:01<00:00, 111MB/s]\n",
            "\n"
          ],
          "name": "stdout"
        }
      ]
    },
    {
      "cell_type": "code",
      "metadata": {
        "id": "XxGPr22Kvd9o",
        "colab_type": "code",
        "colab": {}
      },
      "source": [
        "#unzipping the zip files and deleting the zip files\n",
        "!unzip \\*.zip  && rm *.zip"
      ],
      "execution_count": null,
      "outputs": []
    },
    {
      "cell_type": "markdown",
      "metadata": {
        "id": "RHtbxSSarh_d",
        "colab_type": "text"
      },
      "source": [
        "# Preprocessing and training model"
      ]
    },
    {
      "cell_type": "code",
      "metadata": {
        "id": "Huwt3sXupV1V",
        "colab_type": "code",
        "colab": {}
      },
      "source": [
        "# This Python 3 environment comes with many helpful analytics libraries installed\n",
        "# It is defined by the kaggle/python Docker image: https://github.com/kaggle/docker-python\n",
        "# For example, here's several helpful packages to load\n",
        "\n",
        "import numpy as np # linear algebra\n",
        "import pandas as pd # data processing, CSV file I/O (e.g. pd.read_csv)\n",
        "\n",
        "# Input data files are available in the read-only \"../input/\" directory\n",
        "# For example, running this (by clicking run or pressing Shift+Enter) will list all files under the input directory\n",
        "\n",
        "import os\n",
        "\n",
        "# You can write up to 5GB to the current directory (/kaggle/working/) that gets preserved as output when you create a version using \"Save & Run All\" \n",
        "# You can also write temporary files to /kaggle/temp/, but they won't be saved outside of the current session\n",
        "import torch\n",
        "from torch.utils.data import Dataset, DataLoader\n",
        "from albumentations import Normalize, Compose\n",
        "import numpy as np\n",
        "import pandas as pd\n",
        "import cv2\n",
        "from tqdm.notebook import tqdm\n",
        "from sklearn.model_selection import train_test_split\n",
        "import os\n",
        "import glob\n",
        "from matplotlib import pyplot as plt\n",
        "import random"
      ],
      "execution_count": 11,
      "outputs": []
    },
    {
      "cell_type": "code",
      "metadata": {
        "id": "5KSnfjdcVtIX",
        "colab_type": "code",
        "colab": {}
      },
      "source": [
        "import tensorflow as tf\n",
        "import numpy as np\n",
        "import matplotlib.pyplot as plt\n",
        "import tensorflow as tf\n",
        "import tensorflow_hub as hub\n",
        "import tensorflow_datasets as tfds\n",
        "\n",
        "from tensorflow.keras import layers\n",
        "import logging\n",
        "logger = tf.get_logger()\n",
        "logger.setLevel(logging.ERROR)"
      ],
      "execution_count": 12,
      "outputs": []
    },
    {
      "cell_type": "code",
      "metadata": {
        "id": "l-GgCr0WuBfG",
        "colab_type": "code",
        "colab": {}
      },
      "source": [
        "!pip install efficientnet\n",
        "import efficientnet.tfkeras as efn"
      ],
      "execution_count": null,
      "outputs": []
    },
    {
      "cell_type": "code",
      "metadata": {
        "id": "_88mfeUUXB8k",
        "colab_type": "code",
        "colab": {}
      },
      "source": [
        "!pip3 install resnet"
      ],
      "execution_count": null,
      "outputs": []
    },
    {
      "cell_type": "code",
      "metadata": {
        "id": "V2XuCgM2W1xx",
        "colab_type": "code",
        "colab": {
          "base_uri": "https://localhost:8080/",
          "height": 35
        },
        "outputId": "03dda82f-4dcb-420e-b22a-6324527d8e10"
      },
      "source": [
        "# from tensorflow.python.keras.applications import ResNet50\n",
        "# from tensorflow.python.keras.models import Sequential\n",
        "from tensorflow.python.keras.layers import Dense\n",
        "\n",
        "### \n",
        "### Below systax is available with TensorFlow 1.11 onwards but this upgrade is not available for Kaggle kernel yet\n",
        "###\n",
        "import tensorflow as tf\n",
        "print(tf.__version__)\n",
        "import tensorflow as tf\n",
        "from tensorflow.keras.applications import ResNet50\n",
        "from tensorflow.keras.models import Sequential"
      ],
      "execution_count": 14,
      "outputs": [
        {
          "output_type": "stream",
          "text": [
            "2.3.0\n"
          ],
          "name": "stdout"
        }
      ]
    },
    {
      "cell_type": "code",
      "metadata": {
        "id": "-MWwx-xho5z4",
        "colab_type": "code",
        "colab": {
          "base_uri": "https://localhost:8080/",
          "height": 248
        },
        "outputId": "89b3927e-1418-4ba3-ac98-75af779a9f7c"
      },
      "source": [
        "os.listdir('/content/gdrive/My Drive/kaggle/')"
      ],
      "execution_count": 15,
      "outputs": [
        {
          "output_type": "execute_result",
          "data": {
            "text/plain": [
              "['kaggle.json',\n",
              " '.ipynb_checkpoints',\n",
              " 'model_best',\n",
              " 'CAT_00',\n",
              " 'CAT_01',\n",
              " 'CAT_02',\n",
              " 'CAT_03',\n",
              " 'CAT_04',\n",
              " 'CAT_05',\n",
              " 'CAT_06',\n",
              " 'cats',\n",
              " 'test_set',\n",
              " 'training_set']"
            ]
          },
          "metadata": {
            "tags": []
          },
          "execution_count": 15
        }
      ]
    },
    {
      "cell_type": "code",
      "metadata": {
        "id": "EJXTCYRppveN",
        "colab_type": "code",
        "colab": {}
      },
      "source": [
        "import shutil \n",
        "import io\n",
        "import requests\n",
        "from PIL import Image"
      ],
      "execution_count": 16,
      "outputs": []
    },
    {
      "cell_type": "code",
      "metadata": {
        "id": "mpbISnAR1hQS",
        "colab_type": "code",
        "colab": {}
      },
      "source": [
        "# shutil.rmtree('/content/gdrive/My Drive/kaggle/test_set/test_set/key')"
      ],
      "execution_count": 209,
      "outputs": []
    },
    {
      "cell_type": "code",
      "metadata": {
        "id": "a9fbTy0sSVq0",
        "colab_type": "code",
        "colab": {}
      },
      "source": [
        "#Removes the .cat names in the end of some of the file names since it cannot be loaded with it.\n",
        "def move_images1():\n",
        "  Folders =['CAT_00'] #just take one folder at the time change CAT_00 to CAT_01 and so on\n",
        "  new_data = []\n",
        "  cate_data = []\n",
        "\n",
        "  for c in Folders:\n",
        "      for i in range(len(Folders)):\n",
        "          path1 = '/content/gdrive/My Drive/kaggle' + '/' + Folders[i] \n",
        "          data = os.listdir(path1)\n",
        "          for img_name in data:\n",
        "              if '.cat' in img_name:\n",
        "                pass\n",
        "                #note to futher self ALL .cat images are broken -> DONT USE THEM\n",
        "\n",
        "                # img_name = '/content/gdrive/My Drive/kaggle/cat/'+ c + '/' + img_name\n",
        "                # no_dot_cat = img_name.replace('.cat', '')\n",
        "                # os.rename(img_name, no_dot_cat)\n",
        "                # #move images to training folder\n",
        "                # from_folder2 = no_dot_cat\n",
        "                # to_folder =  '/content/gdrive/My Drive/kaggle/training_set/training_set/cats'\n",
        "                # new_path1 = shutil.copy(from_folder2, to_folder)\n",
        "                # print('1: ' + new_path1)\n",
        "                # os.remove(from_folder2)\n",
        "\n",
        "              else:\n",
        "                #move images to training folder\n",
        "                from_folder = '/content/gdrive/My Drive/kaggle/'+ c + '/' + img_name\n",
        "                to_folder =  '/content/gdrive/My Drive/kaggle/training_set/training_set/cats'\n",
        "                new_path = shutil.copy(from_folder, to_folder)\n",
        "                print('2: ' + new_path)\n",
        "                os.remove(from_folder)\n",
        "\n",
        "\n",
        "\n",
        "  #Remove emty folder \n",
        "  folder_path = '/content/gdrive/My Drive/kaggle' + '/' + Folders[0]\n",
        "\n",
        "  # checking whether the folder is empty or not\n",
        "  if len(os.listdir(folder_path)) == 0:\n",
        "      # removing the file using the os.remove() m  ethod\n",
        "      os.rmdir(folder_path)\n",
        "      print(\"Folder is removed: \", Folders)\n",
        "  else:\n",
        "      # messaging saying folder not empty\n",
        "      shutil.rmtree(folder_path)\n",
        "      print(\"Folder is not empty, but I took care of it ;)\")\n",
        "\n",
        "#run the function\n",
        "move_images1()"
      ],
      "execution_count": null,
      "outputs": []
    },
    {
      "cell_type": "code",
      "metadata": {
        "id": "ZqHsWpeOMJ8N",
        "colab_type": "code",
        "colab": {
          "base_uri": "https://localhost:8080/",
          "height": 70
        },
        "outputId": "0c0e6386-4765-45e1-ead9-39c75c1bd311"
      },
      "source": [
        "path1 = '/content/'\n",
        "data = os.listdir(path1)\n",
        "\n",
        "i = 0\n",
        "for img_list_count in data:\n",
        "  if '.jpg' in img_list_count:\n",
        "    i += 1\n",
        "print('images:', i)\n",
        "\n",
        "def CONSTANT_train():\n",
        "    return int(i)\n",
        "def CONSTANT_validation():\n",
        "    return int(i*0.2)\n",
        "\n",
        "# print('training_set:', CONSTANT_train())\n",
        "# print('validation_set:', CONSTANT_validation())\n"
      ],
      "execution_count": 213,
      "outputs": [
        {
          "output_type": "stream",
          "text": [
            "images: 0\n",
            "training_set: 0\n",
            "validation_set: 0\n"
          ],
          "name": "stdout"
        }
      ]
    },
    {
      "cell_type": "code",
      "metadata": {
        "id": "LC-UEEWZxXEY",
        "colab_type": "code",
        "colab": {}
      },
      "source": [
        "for i in range(valid_lengh):\n",
        "  path1 = '/content/'\n",
        "  data = os.listdir(path1)\n",
        "  to_folder_data = os.listdir('/content/gdrive/My Drive/kaggle/test_set/test_set/key')\n",
        "  for img_name in data:\n",
        "      if len(to_folder_data)<i and'.jpg' in img_name:\n",
        "        # print(len(to_folder_data), i)\n",
        "        from_folder = '/content/'\n",
        "        from_folder_image = from_folder + img_name\n",
        "        to_folder =  '/content/gdrive/My Drive/kaggle/test_set/test_set/key'\n",
        "        new_path = shutil.copy(from_folder_image, to_folder)\n",
        "        to_folder_data = os.listdir('/content/gdrive/My Drive/kaggle/test_set/test_set/key')\n",
        "        os.remove(from_folder_image)\n",
        "\n",
        "\n",
        "\n",
        "for i in range(len(data)):\n",
        "  path1 = '/content/'\n",
        "  data = os.listdir(path1)\n",
        "  to_folder_data = os.listdir('/content/gdrive/My Drive/kaggle/training_set/training_set/key')\n",
        "  for img_name in data:\n",
        "      if '.jpg' in img_name:\n",
        "        # print(len(to_folder_data), i)\n",
        "        from_folder = '/content/'\n",
        "        from_folder_image = from_folder + img_name\n",
        "        to_folder =  '/content/gdrive/My Drive/kaggle/training_set/training_set/key'\n",
        "        new_path = shutil.copy(from_folder_image, to_folder)\n",
        "        to_folder_data = os.listdir('/content/gdrive/My Drive/kaggle/training_set/training_set/key')\n",
        "        os.remove(from_folder_image)\n",
        "\n",
        "\n"
      ],
      "execution_count": null,
      "outputs": []
    },
    {
      "cell_type": "code",
      "metadata": {
        "id": "98RGPJHbMkEA",
        "colab_type": "code",
        "colab": {
          "base_uri": "https://localhost:8080/",
          "height": 52
        },
        "outputId": "79aaa2d3-b9bf-4700-c3c7-12c6f505a64d"
      },
      "source": [
        "print('training_set_in_folder:', len(os.listdir('/content/gdrive/My Drive/kaggle/training_set/training_set/key')))\n",
        "print('validation_set_in_folder:', len(os.listdir('/content/gdrive/My Drive/kaggle/test_set/test_set/key')))"
      ],
      "execution_count": 212,
      "outputs": [
        {
          "output_type": "stream",
          "text": [
            "training_set_in_folder: 88\n",
            "validation_set_in_folder: 16\n"
          ],
          "name": "stdout"
        }
      ]
    },
    {
      "cell_type": "code",
      "metadata": {
        "id": "Fhgx5rmnWuZo",
        "colab_type": "code",
        "colab": {}
      },
      "source": [
        "# import os\n",
        "# shutil.rmtree('/content/gdrive/My Drive/kaggle/cat')"
      ],
      "execution_count": null,
      "outputs": []
    },
    {
      "cell_type": "markdown",
      "metadata": {
        "id": "DsEzZSNt6zj1",
        "colab_type": "text"
      },
      "source": [
        "# Removing duplicate"
      ]
    },
    {
      "cell_type": "code",
      "metadata": {
        "id": "gpG_-uu_Jqdi",
        "colab_type": "code",
        "colab": {
          "base_uri": "https://localhost:8080/",
          "height": 33
        },
        "outputId": "ac6a365e-d5b8-42e7-c447-815247872ec1"
      },
      "source": [
        "# to_folder =  os.listdir('/content/gdrive/My Drive/kaggle/training_set/cats')\n",
        "# print(len(to_folder))"
      ],
      "execution_count": null,
      "outputs": [
        {
          "output_type": "stream",
          "text": [
            "11090\n"
          ],
          "name": "stdout"
        }
      ]
    },
    {
      "cell_type": "code",
      "metadata": {
        "id": "TJ7rTEj0AaKs",
        "colab_type": "code",
        "colab": {}
      },
      "source": [
        "# from_folder = '/content/gdrive/My Drive/kaggle/cat/'+ c + '/' + img_name\n",
        "# to_folder =  '/content/gdrive/My Drive/kaggle/training_set/cats'\n",
        "# for e in range(len(to_folder)):\n",
        "#     path2 = '/content/gdrive/My Drive/kaggle/training_set/cats'\n",
        "#     data_to_folder = os.listdir(path2)\n",
        "#     for img_name_to_folder in data_to_folder:\n",
        "#       print(img_name)"
      ],
      "execution_count": null,
      "outputs": []
    },
    {
      "cell_type": "markdown",
      "metadata": {
        "id": "P6pgUeMG49Ip",
        "colab_type": "text"
      },
      "source": [
        "# Define parameter and importing transfer model"
      ]
    },
    {
      "cell_type": "code",
      "metadata": {
        "id": "pQ5swSxzWjOM",
        "colab_type": "code",
        "colab": {}
      },
      "source": [
        "# Fixed for our Cats & Dogs classes\n",
        "NUM_CLASSES = 2\n",
        "\n",
        "# Fixed for Cats & Dogs color images\n",
        "CHANNELS = 3\n",
        "\n",
        "IMAGE_RESIZE = 224\n",
        "RESNET50_POOLING_AVERAGE = 'avg'\n",
        "DENSE_LAYER_ACTIVATION = 'softmax'\n",
        "OBJECTIVE_FUNCTION = 'categorical_crossentropy'\n",
        "\n",
        "# Common accuracy metric for all outputs, but can use different metrics for different output\n",
        "LOSS_METRICS = ['accuracy']\n",
        "\n",
        "# EARLY_STOP_PATIENCE must be < NUM_EPOCHS\n",
        "NUM_EPOCHS = 10\n",
        "EARLY_STOP_PATIENCE = 3\n",
        "\n",
        "# These steps value should be proper FACTOR of no.-of-images in train & valid folders respectively\n",
        "# Training images processed in each step would be no.-of-train-images / STEPS_PER_EPOCH_TRAINING\n",
        "STEPS_PER_EPOCH_TRAINING = 10\n",
        "STEPS_PER_EPOCH_VALIDATION = 10\n",
        "\n",
        "# These steps value should be proper FACTOR of no.-of-images in train & valid folders respectively\n",
        "# NOTE that these BATCH* are for Keras ImageDataGenerator batching to fill epoch step input\n",
        "BATCH_SIZE_TRAINING = 100\n",
        "BATCH_SIZE_VALIDATION = 100\n",
        "\n",
        "# Using 1 to easily manage mapping between test_generator & prediction for submission preparation\n",
        "BATCH_SIZE_TESTING = 1"
      ],
      "execution_count": 26,
      "outputs": []
    },
    {
      "cell_type": "code",
      "metadata": {
        "id": "c8jmdMbpbyU1",
        "colab_type": "code",
        "colab": {
          "base_uri": "https://localhost:8080/",
          "height": 72
        },
        "outputId": "d4ec1d69-f2ad-4416-fdec-2b6acf4827e2"
      },
      "source": [
        "#Still not talking about our train/test data or any pre-processing.\n",
        "# pretrained_model = tf.keras.applications.ResNet50(weights='imagenet', include_top=False, pooling = RESNET50_POOLING_AVERAGE, input_shape=(IMAGE_RESIZE, IMAGE_RESIZE, 3))\n",
        "pretrained_model = efn.EfficientNetB7(weights='imagenet', include_top=False, pooling='avg', input_shape=(IMAGE_RESIZE, IMAGE_RESIZE, 3))\n",
        "pretrained_model.trainable = True\n",
        "\n",
        "\n",
        "model = Sequential()\n",
        "\n",
        "model.add(pretrained_model)\n",
        "# 1st layer as the lumpsum weights from resnet50_weights_tf_dim_ordering_tf_kernels_notop.h5\n",
        "# NOTE that this layer will be set below as NOT TRAINABLE, i.e., use it as is\n",
        "# model.add(ResNet50(include_top = False, pooling = RESNET50_POOLING_AVERAGE, weights = resnet_weights_path))\n",
        "\n",
        "# 2nd layer as Dense for 2-class classification, i.e., dog or cat using SoftMax activation\n",
        "model.add(Dense(NUM_CLASSES, activation = DENSE_LAYER_ACTIVATION))\n",
        "\n",
        "# Say not to train first layer (ResNet) model as it is already trained\n",
        "model.layers[0].trainable = False"
      ],
      "execution_count": 27,
      "outputs": [
        {
          "output_type": "stream",
          "text": [
            "Downloading data from https://github.com/Callidior/keras-applications/releases/download/efficientnet/efficientnet-b7_weights_tf_dim_ordering_tf_kernels_autoaugment_notop.h5\n",
            "258441216/258434480 [==============================] - 3s 0us/step\n"
          ],
          "name": "stdout"
        }
      ]
    },
    {
      "cell_type": "code",
      "metadata": {
        "id": "ETkY0i8YctLR",
        "colab_type": "code",
        "colab": {
          "base_uri": "https://localhost:8080/",
          "height": 230
        },
        "outputId": "4555bce5-d897-4141-c363-dd9d9a1677e7"
      },
      "source": [
        "model.summary()"
      ],
      "execution_count": 28,
      "outputs": [
        {
          "output_type": "stream",
          "text": [
            "Model: \"sequential\"\n",
            "_________________________________________________________________\n",
            "Layer (type)                 Output Shape              Param #   \n",
            "=================================================================\n",
            "efficientnet-b7 (Functional) (None, 2560)              64097680  \n",
            "_________________________________________________________________\n",
            "dense (Dense)                (None, 2)                 5122      \n",
            "=================================================================\n",
            "Total params: 64,102,802\n",
            "Trainable params: 5,122\n",
            "Non-trainable params: 64,097,680\n",
            "_________________________________________________________________\n"
          ],
          "name": "stdout"
        }
      ]
    },
    {
      "cell_type": "code",
      "metadata": {
        "id": "uOtPHgUPcxZ4",
        "colab_type": "code",
        "colab": {}
      },
      "source": [
        "model.compile(optimizer='adam', loss='categorical_crossentropy',metrics=['accuracy'])"
      ],
      "execution_count": 29,
      "outputs": []
    },
    {
      "cell_type": "markdown",
      "metadata": {
        "id": "x0b9-GJAdj_u",
        "colab_type": "text"
      },
      "source": [
        "# Prepare Keras Data Generators"
      ]
    },
    {
      "cell_type": "code",
      "metadata": {
        "id": "Wz77kL8JWNuz",
        "colab_type": "code",
        "colab": {
          "base_uri": "https://localhost:8080/",
          "height": 405
        },
        "outputId": "ed7852ca-2577-4326-e586-eec5b9d364c2"
      },
      "source": [
        "from keras.applications.resnet50 import preprocess_input\n",
        "from keras.preprocessing.image import ImageDataGenerator\n",
        "\n",
        "image_size = IMAGE_RESIZE\n",
        "\n",
        "# preprocessing_function is applied on each image but only after re-sizing & augmentation (resize => augment => pre-process)\n",
        "# Each of the keras.application.resnet* preprocess_input MOSTLY mean BATCH NORMALIZATION (applied on each batch) stabilize the inputs to nonlinear activation functions\n",
        "# Batch Normal helps in faster convergence\n",
        "\n",
        "data_generator = ImageDataGenerator(preprocessing_function=preprocess_input,\n",
        "                                   rotation_range = 30,\n",
        "                                   shear_range=0.2,\n",
        "                                   zoom_range=0.2,\n",
        "                                    )\n",
        "\n",
        "# flow_From_directory generates batches of augmented data (where augmentation can be color conversion, etc)\n",
        "# Both train & valid folders must have NUM_CLASSES sub-folders\n",
        "train_generator = data_generator.flow_from_directory(\n",
        "        '/content/gdrive/My Drive/kaggle/training_set/training_set',\n",
        "        target_size=(image_size, image_size),\n",
        "        batch_size=BATCH_SIZE_TRAINING,\n",
        "        class_mode='categorical')\n",
        "\n",
        "validation_generator = data_generator.flow_from_directory(\n",
        "        '/content/gdrive/My Drive/kaggle/test',\n",
        "        target_size=(image_size, image_size),\n",
        "        batch_size=BATCH_SIZE_VALIDATION,\n",
        "        class_mode='categorical') "
      ],
      "execution_count": 30,
      "outputs": [
        {
          "output_type": "error",
          "ename": "FileNotFoundError",
          "evalue": "ignored",
          "traceback": [
            "\u001b[0;31m---------------------------------------------------------------------------\u001b[0m",
            "\u001b[0;31mFileNotFoundError\u001b[0m                         Traceback (most recent call last)",
            "\u001b[0;32m<ipython-input-30-75f1cc6bba04>\u001b[0m in \u001b[0;36m<module>\u001b[0;34m()\u001b[0m\n\u001b[1;32m     20\u001b[0m         \u001b[0mtarget_size\u001b[0m\u001b[0;34m=\u001b[0m\u001b[0;34m(\u001b[0m\u001b[0mimage_size\u001b[0m\u001b[0;34m,\u001b[0m \u001b[0mimage_size\u001b[0m\u001b[0;34m)\u001b[0m\u001b[0;34m,\u001b[0m\u001b[0;34m\u001b[0m\u001b[0;34m\u001b[0m\u001b[0m\n\u001b[1;32m     21\u001b[0m         \u001b[0mbatch_size\u001b[0m\u001b[0;34m=\u001b[0m\u001b[0mBATCH_SIZE_TRAINING\u001b[0m\u001b[0;34m,\u001b[0m\u001b[0;34m\u001b[0m\u001b[0;34m\u001b[0m\u001b[0m\n\u001b[0;32m---> 22\u001b[0;31m         class_mode='categorical')\n\u001b[0m\u001b[1;32m     23\u001b[0m \u001b[0;34m\u001b[0m\u001b[0m\n\u001b[1;32m     24\u001b[0m validation_generator = data_generator.flow_from_directory(\n",
            "\u001b[0;32m/usr/local/lib/python3.6/dist-packages/tensorflow/python/keras/preprocessing/image.py\u001b[0m in \u001b[0;36mflow_from_directory\u001b[0;34m(self, directory, target_size, color_mode, classes, class_mode, batch_size, shuffle, seed, save_to_dir, save_prefix, save_format, follow_links, subset, interpolation)\u001b[0m\n\u001b[1;32m    957\u001b[0m         \u001b[0mfollow_links\u001b[0m\u001b[0;34m=\u001b[0m\u001b[0mfollow_links\u001b[0m\u001b[0;34m,\u001b[0m\u001b[0;34m\u001b[0m\u001b[0;34m\u001b[0m\u001b[0m\n\u001b[1;32m    958\u001b[0m         \u001b[0msubset\u001b[0m\u001b[0;34m=\u001b[0m\u001b[0msubset\u001b[0m\u001b[0;34m,\u001b[0m\u001b[0;34m\u001b[0m\u001b[0;34m\u001b[0m\u001b[0m\n\u001b[0;32m--> 959\u001b[0;31m         interpolation=interpolation)\n\u001b[0m\u001b[1;32m    960\u001b[0m \u001b[0;34m\u001b[0m\u001b[0m\n\u001b[1;32m    961\u001b[0m   def flow_from_dataframe(self,\n",
            "\u001b[0;32m/usr/local/lib/python3.6/dist-packages/tensorflow/python/keras/preprocessing/image.py\u001b[0m in \u001b[0;36m__init__\u001b[0;34m(self, directory, image_data_generator, target_size, color_mode, classes, class_mode, batch_size, shuffle, seed, data_format, save_to_dir, save_prefix, save_format, follow_links, subset, interpolation, dtype)\u001b[0m\n\u001b[1;32m    395\u001b[0m         \u001b[0msubset\u001b[0m\u001b[0;34m=\u001b[0m\u001b[0msubset\u001b[0m\u001b[0;34m,\u001b[0m\u001b[0;34m\u001b[0m\u001b[0;34m\u001b[0m\u001b[0m\n\u001b[1;32m    396\u001b[0m         \u001b[0minterpolation\u001b[0m\u001b[0;34m=\u001b[0m\u001b[0minterpolation\u001b[0m\u001b[0;34m,\u001b[0m\u001b[0;34m\u001b[0m\u001b[0;34m\u001b[0m\u001b[0m\n\u001b[0;32m--> 397\u001b[0;31m         **kwargs)\n\u001b[0m\u001b[1;32m    398\u001b[0m \u001b[0;34m\u001b[0m\u001b[0m\n\u001b[1;32m    399\u001b[0m \u001b[0;34m\u001b[0m\u001b[0m\n",
            "\u001b[0;32m/usr/local/lib/python3.6/dist-packages/keras_preprocessing/image/directory_iterator.py\u001b[0m in \u001b[0;36m__init__\u001b[0;34m(self, directory, image_data_generator, target_size, color_mode, classes, class_mode, batch_size, shuffle, seed, data_format, save_to_dir, save_prefix, save_format, follow_links, subset, interpolation, dtype)\u001b[0m\n\u001b[1;32m    113\u001b[0m         \u001b[0;32mif\u001b[0m \u001b[0;32mnot\u001b[0m \u001b[0mclasses\u001b[0m\u001b[0;34m:\u001b[0m\u001b[0;34m\u001b[0m\u001b[0;34m\u001b[0m\u001b[0m\n\u001b[1;32m    114\u001b[0m             \u001b[0mclasses\u001b[0m \u001b[0;34m=\u001b[0m \u001b[0;34m[\u001b[0m\u001b[0;34m]\u001b[0m\u001b[0;34m\u001b[0m\u001b[0;34m\u001b[0m\u001b[0m\n\u001b[0;32m--> 115\u001b[0;31m             \u001b[0;32mfor\u001b[0m \u001b[0msubdir\u001b[0m \u001b[0;32min\u001b[0m \u001b[0msorted\u001b[0m\u001b[0;34m(\u001b[0m\u001b[0mos\u001b[0m\u001b[0;34m.\u001b[0m\u001b[0mlistdir\u001b[0m\u001b[0;34m(\u001b[0m\u001b[0mdirectory\u001b[0m\u001b[0;34m)\u001b[0m\u001b[0;34m)\u001b[0m\u001b[0;34m:\u001b[0m\u001b[0;34m\u001b[0m\u001b[0;34m\u001b[0m\u001b[0m\n\u001b[0m\u001b[1;32m    116\u001b[0m                 \u001b[0;32mif\u001b[0m \u001b[0mos\u001b[0m\u001b[0;34m.\u001b[0m\u001b[0mpath\u001b[0m\u001b[0;34m.\u001b[0m\u001b[0misdir\u001b[0m\u001b[0;34m(\u001b[0m\u001b[0mos\u001b[0m\u001b[0;34m.\u001b[0m\u001b[0mpath\u001b[0m\u001b[0;34m.\u001b[0m\u001b[0mjoin\u001b[0m\u001b[0;34m(\u001b[0m\u001b[0mdirectory\u001b[0m\u001b[0;34m,\u001b[0m \u001b[0msubdir\u001b[0m\u001b[0;34m)\u001b[0m\u001b[0;34m)\u001b[0m\u001b[0;34m:\u001b[0m\u001b[0;34m\u001b[0m\u001b[0;34m\u001b[0m\u001b[0m\n\u001b[1;32m    117\u001b[0m                     \u001b[0mclasses\u001b[0m\u001b[0;34m.\u001b[0m\u001b[0mappend\u001b[0m\u001b[0;34m(\u001b[0m\u001b[0msubdir\u001b[0m\u001b[0;34m)\u001b[0m\u001b[0;34m\u001b[0m\u001b[0;34m\u001b[0m\u001b[0m\n",
            "\u001b[0;31mFileNotFoundError\u001b[0m: [Errno 2] No such file or directory: '/content/gdrive/My Drive/kaggle/training'"
          ]
        }
      ]
    },
    {
      "cell_type": "code",
      "metadata": {
        "id": "DuJCREYUNF9f",
        "colab_type": "code",
        "colab": {}
      },
      "source": [
        ""
      ],
      "execution_count": null,
      "outputs": []
    },
    {
      "cell_type": "code",
      "metadata": {
        "id": "tJRLR_pEWoZn",
        "colab_type": "code",
        "colab": {
          "base_uri": "https://localhost:8080/",
          "height": 35
        },
        "outputId": "8902f5a7-775f-4087-f1aa-813f4a496b85"
      },
      "source": [
        "# Max number of steps that these generator will have opportunity to process their source content\n",
        "# len(train_generator) should be 'no. of available train images / BATCH_SIZE_TRAINING'\n",
        "# len(valid_generator) should be 'no. of available train images / BATCH_SIZE_VALIDATION'\n",
        "(BATCH_SIZE_TRAINING, len(train_generator), BATCH_SIZE_VALIDATION, len(validation_generator))"
      ],
      "execution_count": null,
      "outputs": [
        {
          "output_type": "execute_result",
          "data": {
            "text/plain": [
              "(100, 41, 100, 11)"
            ]
          },
          "metadata": {
            "tags": []
          },
          "execution_count": 25
        }
      ]
    },
    {
      "cell_type": "code",
      "metadata": {
        "id": "XzJb09Nfd32T",
        "colab_type": "code",
        "colab": {}
      },
      "source": [
        "# Early stopping & checkpointing the best model in ../working dir & restoring that as our model for prediction\n",
        "from tensorflow.python.keras.callbacks import EarlyStopping, ModelCheckpoint\n",
        "\n",
        "cb_early_stopper = EarlyStopping(monitor = 'val_loss', patience = EARLY_STOP_PATIENCE)\n",
        "cb_checkpointer = ModelCheckpoint(filepath = '/content/gdrive/My Drive/kaggle/model_best', monitor = 'val_loss', save_best_only = True, mode = 'auto')"
      ],
      "execution_count": null,
      "outputs": []
    },
    {
      "cell_type": "code",
      "metadata": {
        "id": "keKoe5vS1SQk",
        "colab_type": "code",
        "colab": {}
      },
      "source": [
        "# shutil.rmtree('/content/gdrive/My Drive/kaggle/test_set')"
      ],
      "execution_count": null,
      "outputs": []
    },
    {
      "cell_type": "code",
      "metadata": {
        "id": "S34XYoYad75Q",
        "colab_type": "code",
        "colab": {
          "base_uri": "https://localhost:8080/",
          "height": 124
        },
        "outputId": "54844b16-e10a-4064-eee1-514aaae3a3d8"
      },
      "source": [
        "fit_history = model.fit_generator(\n",
        "        train_generator,\n",
        "        steps_per_epoch=32,\n",
        "        epochs = 3,\n",
        "        validation_data=validation_generator,\n",
        "        validation_steps=21,\n",
        "        callbacks=[cb_checkpointer, cb_early_stopper]\n",
        ")\n"
      ],
      "execution_count": null,
      "outputs": [
        {
          "output_type": "stream",
          "text": [
            "Epoch 1/3\n",
            "32/32 [==============================] - 1983s 62s/step - loss: 33.1595 - accuracy: 0.9781 - val_loss: 0.8597 - val_accuracy: 0.9749\n",
            "Epoch 2/3\n",
            "32/32 [==============================] - 1394s 44s/step - loss: 24.2955 - accuracy: 0.9731\n",
            "Epoch 3/3\n",
            "32/32 [==============================] - 1392s 43s/step - loss: 8.9904 - accuracy: 0.9719\n"
          ],
          "name": "stdout"
        }
      ]
    },
    {
      "cell_type": "code",
      "metadata": {
        "id": "B8R4PfuHpCC6",
        "colab_type": "code",
        "colab": {}
      },
      "source": [
        "# model.load_weights(\"/content/gdrive/My Drive/kaggle/best_models.hdf5\")"
      ],
      "execution_count": null,
      "outputs": []
    },
    {
      "cell_type": "markdown",
      "metadata": {
        "id": "UZADZwYij60v",
        "colab_type": "text"
      },
      "source": [
        "# Training Metrics"
      ]
    },
    {
      "cell_type": "code",
      "metadata": {
        "id": "nllCK8WEj9Tf",
        "colab_type": "code",
        "colab": {
          "base_uri": "https://localhost:8080/",
          "height": 72
        },
        "outputId": "835f20bf-67a6-4a69-8eaf-0deb0ab002ac"
      },
      "source": [
        "print(fit_history.history.keys())\n",
        "print(fit_history.history.values())"
      ],
      "execution_count": null,
      "outputs": [
        {
          "output_type": "stream",
          "text": [
            "dict_keys(['loss', 'accuracy', 'val_loss', 'val_accuracy'])\n",
            "dict_values([[33.15952682495117, 24.295494079589844, 8.990387916564941], [0.9781249761581421, 0.9731249809265137, 0.971875011920929], [0.8596922159194946], [0.9749276638031006]])\n"
          ],
          "name": "stdout"
        }
      ]
    },
    {
      "cell_type": "code",
      "metadata": {
        "id": "VzWa3tFKkBZa",
        "colab_type": "code",
        "colab": {
          "base_uri": "https://localhost:8080/",
          "height": 33
        },
        "outputId": "a36dfd9d-93a3-4eaf-d86d-8edc4a84e676"
      },
      "source": [
        "print(fit_history.history['val_loss'])"
      ],
      "execution_count": null,
      "outputs": [
        {
          "output_type": "stream",
          "text": [
            "[0.047441307455301285]\n"
          ],
          "name": "stdout"
        }
      ]
    },
    {
      "cell_type": "code",
      "metadata": {
        "id": "GMSiB7coF6-o",
        "colab_type": "code",
        "colab": {
          "base_uri": "https://localhost:8080/",
          "height": 35
        },
        "outputId": "a17cfca3-e558-4063-a25c-7ee94fbf458e"
      },
      "source": [
        "# code for predicting an image stored locally against a trained model\n",
        "# my local image is 28 x 28 already\n",
        "import numpy as np\n",
        "from PIL import Image\n",
        "from keras.preprocessing import image\n",
        "img = image.load_img('/content/octopus.PNG')\n",
        "# img = Image.open(img_path)\n",
        "img = img.resize((IMAGE_RESIZE,IMAGE_RESIZE))\n",
        "img = np.array(img)\n",
        "img = img / 255.0\n",
        "img = img.reshape(1,IMAGE_RESIZE,IMAGE_RESIZE,3)\n",
        "pred_probab = model.predict(img)[0]\n",
        "pred_class = list(pred_probab).index(max(pred_probab))\n",
        "print(max(pred_probab), pred_class)"
      ],
      "execution_count": null,
      "outputs": [
        {
          "output_type": "stream",
          "text": [
            "0.82838225 0\n"
          ],
          "name": "stdout"
        }
      ]
    },
    {
      "cell_type": "markdown",
      "metadata": {
        "id": "fwIFdUaQ0_Kp",
        "colab_type": "text"
      },
      "source": [
        "# Save model "
      ]
    },
    {
      "cell_type": "code",
      "metadata": {
        "id": "JdD0esUMGWZ2",
        "colab_type": "code",
        "colab": {
          "base_uri": "https://localhost:8080/",
          "height": 35
        },
        "outputId": "c027c9cf-103e-420e-b7d3-acb1bb8a83eb"
      },
      "source": [
        "import time\n",
        "t = time.time()\n",
        "\n",
        "export_path_keras = \"./{}.h5\".format(int(t))\n",
        "print(export_path_keras)\n",
        "\n",
        "model.save(export_path_keras)"
      ],
      "execution_count": null,
      "outputs": [
        {
          "output_type": "stream",
          "text": [
            "./1597797754.h5\n"
          ],
          "name": "stdout"
        }
      ]
    },
    {
      "cell_type": "markdown",
      "metadata": {
        "id": "o9hLRt4HHjmk",
        "colab_type": "text"
      },
      "source": [
        "# Load the Keras .h5 Model"
      ]
    },
    {
      "cell_type": "code",
      "metadata": {
        "id": "zTkwEE0f1B18",
        "colab_type": "code",
        "colab": {}
      },
      "source": [
        "export_path_keras=\"/content/gdrive/My Drive/kaggle/1597712595.h5\""
      ],
      "execution_count": null,
      "outputs": []
    },
    {
      "cell_type": "code",
      "metadata": {
        "id": "oVplJ570G3VH",
        "colab_type": "code",
        "colab": {
          "base_uri": "https://localhost:8080/",
          "height": 230
        },
        "outputId": "b8c1c056-acfd-4d15-cbca-80bfacc4d8a7"
      },
      "source": [
        "reloaded = tf.keras.models.load_model(\n",
        "  export_path_keras, \n",
        "  # `custom_objects` tells keras how to load a `hub.KerasLayer`\n",
        "  custom_objects={'KerasLayer': hub.KerasLayer})\n",
        "\n",
        "reloaded.summary()"
      ],
      "execution_count": null,
      "outputs": [
        {
          "output_type": "stream",
          "text": [
            "Model: \"sequential_1\"\n",
            "_________________________________________________________________\n",
            "Layer (type)                 Output Shape              Param #   \n",
            "=================================================================\n",
            "efficientnet-b7 (Functional) (None, 2560)              64097680  \n",
            "_________________________________________________________________\n",
            "dense_1 (Dense)              (None, 2)                 5122      \n",
            "=================================================================\n",
            "Total params: 64,102,802\n",
            "Trainable params: 5,122\n",
            "Non-trainable params: 64,097,680\n",
            "_________________________________________________________________\n"
          ],
          "name": "stdout"
        }
      ]
    },
    {
      "cell_type": "markdown",
      "metadata": {
        "id": "24XvE5h6HtwS",
        "colab_type": "text"
      },
      "source": [
        "## Keep training "
      ]
    },
    {
      "cell_type": "code",
      "metadata": {
        "id": "5-Ouz77_IBvC",
        "colab_type": "code",
        "colab": {
          "base_uri": "https://localhost:8080/",
          "height": 53
        },
        "outputId": "97a0f085-6bcc-4ac0-bb09-c1f37d19847c"
      },
      "source": [
        "EPOCHS = 1\n",
        "fit_history = reloaded.fit_generator(\n",
        "        train_generator,\n",
        "        steps_per_epoch=21,\n",
        "        epochs = EPOCHS,\n",
        "        validation_data=validation_generator,\n",
        "        validation_steps=21,\n",
        ")"
      ],
      "execution_count": null,
      "outputs": [
        {
          "output_type": "stream",
          "text": [
            "21/21 [==============================] - 572s 27s/step - loss: 0.0268 - accuracy: 0.9933 - val_loss: 0.0485 - val_accuracy: 0.9876\n"
          ],
          "name": "stdout"
        }
      ]
    }
  ]
}